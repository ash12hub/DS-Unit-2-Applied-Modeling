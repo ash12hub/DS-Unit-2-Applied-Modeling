{
 "cells": [
  {
   "cell_type": "markdown",
   "metadata": {
    "colab_type": "text",
    "id": "rPh-uurrzprt"
   },
   "source": [
    "_Lambda School Data Science, Unit 2_\n",
    " \n",
    "# Regression 2 Sprint Challenge: Predict drugstore sales 🏥\n",
    "\n",
    "For your Sprint Challenge, you'll use real-world sales data from a German drugstore chain, from Jan 2, 2013 — July 31, 2015.\n",
    "\n",
    "You are given three dataframes:\n",
    "\n",
    "- `train`: historical sales data for 100 stores\n",
    "- `test`: historical sales data for 100 different stores\n",
    "- `store`: supplemental information about the stores\n",
    "\n",
    "\n",
    "The train and test set do _not_ have different date ranges. But they _do_ have different store ids. Your task is _not_ to forecast future sales from past sales. **Your task is to predict sales at unknown stores, from sales at known stores.**"
   ]
  },
  {
   "cell_type": "code",
   "execution_count": 1,
   "metadata": {
    "colab": {},
    "colab_type": "code",
    "id": "jKOFk_6nzpru"
   },
   "outputs": [],
   "source": [
    "import pandas as pd;\n",
    "train = pd.read_csv('https://drive.google.com/uc?export=download&id=1E9rgiGf1f_WL2S4-V6gD7ZhB8r8Yb_lE');\n",
    "test = pd.read_csv('https://drive.google.com/uc?export=download&id=1vkaVptn4TTYC9-YPZvbvmfDNHVR8aUml');\n",
    "store = pd.read_csv('https://drive.google.com/uc?export=download&id=1rZD-V1mWydeytptQfr-NL7dBqre6lZMo');\n",
    "assert train.shape == (78400, 7);\n",
    "assert test.shape == (78400, 7);\n",
    "assert store.shape == (200, 10);"
   ]
  },
  {
   "cell_type": "markdown",
   "metadata": {
    "colab_type": "text",
    "id": "PrvIj4olzprv"
   },
   "source": [
    "The dataframes have a variety of columns:\n",
    "\n",
    "- **Store** - a unique Id for each store\n",
    "- **DayOfWeek** - integer, 1-6\n",
    "- **Date** - the date, from Jan 2, 2013 — July 31, 2015.\n",
    "- **Sales** - the units of inventory sold on a given date (this is the target you are predicting)\n",
    "- **Customers** - the number of customers on a given date\n",
    "- **Promo** - indicates whether a store is running a promo on that day\n",
    "- **SchoolHoliday** - indicates the closure of public schools\n",
    "- **StoreType** - differentiates between 4 different store models: a, b, c, d\n",
    "- **Assortment** - describes an assortment level: a = basic, b = extra, c = extended\n",
    "- **CompetitionDistance** - distance in meters to the nearest competitor store\n",
    "- **CompetitionOpenSince[Month/Year]** - gives the approximate year and month of the time the nearest competitor was opened\n",
    "- **Promo2** - Promo2 is a continuing and consecutive promotion for some stores: 0 = store is not participating, 1 = store is participating\n",
    "- **Promo2Since[Year/Week]** - describes the year and calendar week when the store started participating in Promo2\n",
    "- **PromoInterval** - describes the consecutive intervals Promo2 is started, naming the months the promotion is started anew. E.g. \"Feb,May,Aug,Nov\" means each round starts in February, May, August, November of any given year for that store"
   ]
  },
  {
   "cell_type": "markdown",
   "metadata": {
    "colab_type": "text",
    "id": "Txb785Qdzprw"
   },
   "source": [
    "This Sprint Challenge has three parts. To demonstrate mastery on each part, do all the required instructions. To earn a score of \"3\" for the part, also do the stretch goals."
   ]
  },
  {
   "cell_type": "markdown",
   "metadata": {
    "colab_type": "text",
    "id": "B9NV3COuzprw"
   },
   "source": [
    "## 1. Wrangle relational data, Log-transform the target\n",
    "- Merge the `store` dataframe with the `train` and `test` dataframes. \n",
    "- Arrange the X matrix and y vector for the train and test sets.\n",
    "- Log-transform the target for the train and test set.\n",
    "- Plot the target's distribution for the train set, before and after the transformation.\n",
    "\n",
    "#### Stretch goals\n",
    "- Engineer 3+ more features."
   ]
  },
  {
   "cell_type": "code",
   "execution_count": 2,
   "metadata": {
    "colab": {},
    "colab_type": "code",
    "id": "qjvBbl78zprx"
   },
   "outputs": [
    {
     "data": {
      "text/html": [
       "<div>\n",
       "<style scoped>\n",
       "    .dataframe tbody tr th:only-of-type {\n",
       "        vertical-align: middle;\n",
       "    }\n",
       "\n",
       "    .dataframe tbody tr th {\n",
       "        vertical-align: top;\n",
       "    }\n",
       "\n",
       "    .dataframe thead th {\n",
       "        text-align: right;\n",
       "    }\n",
       "</style>\n",
       "<table border=\"1\" class=\"dataframe\">\n",
       "  <thead>\n",
       "    <tr style=\"text-align: right;\">\n",
       "      <th></th>\n",
       "      <th>Store</th>\n",
       "      <th>DayOfWeek</th>\n",
       "      <th>Date</th>\n",
       "      <th>Sales</th>\n",
       "      <th>Customers</th>\n",
       "      <th>Promo</th>\n",
       "      <th>SchoolHoliday</th>\n",
       "    </tr>\n",
       "  </thead>\n",
       "  <tbody>\n",
       "    <tr>\n",
       "      <th>0</th>\n",
       "      <td>4</td>\n",
       "      <td>5</td>\n",
       "      <td>2015-07-31</td>\n",
       "      <td>13995</td>\n",
       "      <td>1498</td>\n",
       "      <td>1</td>\n",
       "      <td>1</td>\n",
       "    </tr>\n",
       "    <tr>\n",
       "      <th>1</th>\n",
       "      <td>8</td>\n",
       "      <td>5</td>\n",
       "      <td>2015-07-31</td>\n",
       "      <td>8492</td>\n",
       "      <td>833</td>\n",
       "      <td>1</td>\n",
       "      <td>1</td>\n",
       "    </tr>\n",
       "    <tr>\n",
       "      <th>2</th>\n",
       "      <td>11</td>\n",
       "      <td>5</td>\n",
       "      <td>2015-07-31</td>\n",
       "      <td>10457</td>\n",
       "      <td>1236</td>\n",
       "      <td>1</td>\n",
       "      <td>1</td>\n",
       "    </tr>\n",
       "    <tr>\n",
       "      <th>3</th>\n",
       "      <td>12</td>\n",
       "      <td>5</td>\n",
       "      <td>2015-07-31</td>\n",
       "      <td>8959</td>\n",
       "      <td>962</td>\n",
       "      <td>1</td>\n",
       "      <td>1</td>\n",
       "    </tr>\n",
       "    <tr>\n",
       "      <th>4</th>\n",
       "      <td>34</td>\n",
       "      <td>5</td>\n",
       "      <td>2015-07-31</td>\n",
       "      <td>11144</td>\n",
       "      <td>1162</td>\n",
       "      <td>1</td>\n",
       "      <td>1</td>\n",
       "    </tr>\n",
       "  </tbody>\n",
       "</table>\n",
       "</div>"
      ],
      "text/plain": [
       "   Store  DayOfWeek        Date  Sales  Customers  Promo  SchoolHoliday\n",
       "0      4          5  2015-07-31  13995       1498      1              1\n",
       "1      8          5  2015-07-31   8492        833      1              1\n",
       "2     11          5  2015-07-31  10457       1236      1              1\n",
       "3     12          5  2015-07-31   8959        962      1              1\n",
       "4     34          5  2015-07-31  11144       1162      1              1"
      ]
     },
     "execution_count": 2,
     "metadata": {},
     "output_type": "execute_result"
    }
   ],
   "source": [
    "train.head()"
   ]
  },
  {
   "cell_type": "code",
   "execution_count": 3,
   "metadata": {},
   "outputs": [],
   "source": [
    "from sklearn.model_selection import train_test_split;"
   ]
  },
  {
   "cell_type": "code",
   "execution_count": 4,
   "metadata": {},
   "outputs": [
    {
     "data": {
      "text/html": [
       "<div>\n",
       "<style scoped>\n",
       "    .dataframe tbody tr th:only-of-type {\n",
       "        vertical-align: middle;\n",
       "    }\n",
       "\n",
       "    .dataframe tbody tr th {\n",
       "        vertical-align: top;\n",
       "    }\n",
       "\n",
       "    .dataframe thead th {\n",
       "        text-align: right;\n",
       "    }\n",
       "</style>\n",
       "<table border=\"1\" class=\"dataframe\">\n",
       "  <thead>\n",
       "    <tr style=\"text-align: right;\">\n",
       "      <th></th>\n",
       "      <th>Store</th>\n",
       "      <th>StoreType</th>\n",
       "      <th>Assortment</th>\n",
       "      <th>CompetitionDistance</th>\n",
       "      <th>CompetitionOpenSinceMonth</th>\n",
       "      <th>CompetitionOpenSinceYear</th>\n",
       "      <th>Promo2</th>\n",
       "      <th>Promo2SinceWeek</th>\n",
       "      <th>Promo2SinceYear</th>\n",
       "      <th>PromoInterval</th>\n",
       "    </tr>\n",
       "  </thead>\n",
       "  <tbody>\n",
       "    <tr>\n",
       "      <th>0</th>\n",
       "      <td>4</td>\n",
       "      <td>c</td>\n",
       "      <td>c</td>\n",
       "      <td>620.0</td>\n",
       "      <td>9.0</td>\n",
       "      <td>2009.0</td>\n",
       "      <td>0</td>\n",
       "      <td>NaN</td>\n",
       "      <td>NaN</td>\n",
       "      <td>NaN</td>\n",
       "    </tr>\n",
       "    <tr>\n",
       "      <th>1</th>\n",
       "      <td>8</td>\n",
       "      <td>a</td>\n",
       "      <td>a</td>\n",
       "      <td>7520.0</td>\n",
       "      <td>10.0</td>\n",
       "      <td>2014.0</td>\n",
       "      <td>0</td>\n",
       "      <td>NaN</td>\n",
       "      <td>NaN</td>\n",
       "      <td>NaN</td>\n",
       "    </tr>\n",
       "    <tr>\n",
       "      <th>2</th>\n",
       "      <td>10</td>\n",
       "      <td>a</td>\n",
       "      <td>a</td>\n",
       "      <td>3160.0</td>\n",
       "      <td>9.0</td>\n",
       "      <td>2009.0</td>\n",
       "      <td>0</td>\n",
       "      <td>NaN</td>\n",
       "      <td>NaN</td>\n",
       "      <td>NaN</td>\n",
       "    </tr>\n",
       "    <tr>\n",
       "      <th>3</th>\n",
       "      <td>11</td>\n",
       "      <td>a</td>\n",
       "      <td>c</td>\n",
       "      <td>960.0</td>\n",
       "      <td>11.0</td>\n",
       "      <td>2011.0</td>\n",
       "      <td>1</td>\n",
       "      <td>1.0</td>\n",
       "      <td>2012.0</td>\n",
       "      <td>Jan,Apr,Jul,Oct</td>\n",
       "    </tr>\n",
       "    <tr>\n",
       "      <th>4</th>\n",
       "      <td>12</td>\n",
       "      <td>a</td>\n",
       "      <td>c</td>\n",
       "      <td>1070.0</td>\n",
       "      <td>NaN</td>\n",
       "      <td>NaN</td>\n",
       "      <td>1</td>\n",
       "      <td>13.0</td>\n",
       "      <td>2010.0</td>\n",
       "      <td>Jan,Apr,Jul,Oct</td>\n",
       "    </tr>\n",
       "  </tbody>\n",
       "</table>\n",
       "</div>"
      ],
      "text/plain": [
       "   Store StoreType Assortment  CompetitionDistance  CompetitionOpenSinceMonth  \\\n",
       "0      4         c          c                620.0                        9.0   \n",
       "1      8         a          a               7520.0                       10.0   \n",
       "2     10         a          a               3160.0                        9.0   \n",
       "3     11         a          c                960.0                       11.0   \n",
       "4     12         a          c               1070.0                        NaN   \n",
       "\n",
       "   CompetitionOpenSinceYear  Promo2  Promo2SinceWeek  Promo2SinceYear  \\\n",
       "0                    2009.0       0              NaN              NaN   \n",
       "1                    2014.0       0              NaN              NaN   \n",
       "2                    2009.0       0              NaN              NaN   \n",
       "3                    2011.0       1              1.0           2012.0   \n",
       "4                       NaN       1             13.0           2010.0   \n",
       "\n",
       "     PromoInterval  \n",
       "0              NaN  \n",
       "1              NaN  \n",
       "2              NaN  \n",
       "3  Jan,Apr,Jul,Oct  \n",
       "4  Jan,Apr,Jul,Oct  "
      ]
     },
     "execution_count": 4,
     "metadata": {},
     "output_type": "execute_result"
    }
   ],
   "source": [
    "store.head()"
   ]
  },
  {
   "cell_type": "code",
   "execution_count": 5,
   "metadata": {},
   "outputs": [
    {
     "data": {
      "text/html": [
       "<div>\n",
       "<style scoped>\n",
       "    .dataframe tbody tr th:only-of-type {\n",
       "        vertical-align: middle;\n",
       "    }\n",
       "\n",
       "    .dataframe tbody tr th {\n",
       "        vertical-align: top;\n",
       "    }\n",
       "\n",
       "    .dataframe thead th {\n",
       "        text-align: right;\n",
       "    }\n",
       "</style>\n",
       "<table border=\"1\" class=\"dataframe\">\n",
       "  <thead>\n",
       "    <tr style=\"text-align: right;\">\n",
       "      <th></th>\n",
       "      <th>DayOfWeek</th>\n",
       "      <th>Sales</th>\n",
       "      <th>Customers</th>\n",
       "      <th>Promo</th>\n",
       "      <th>SchoolHoliday</th>\n",
       "      <th>StoreType</th>\n",
       "      <th>Assortment</th>\n",
       "      <th>CompetitionDistance</th>\n",
       "      <th>CompetitionOpenSinceMonth</th>\n",
       "      <th>CompetitionOpenSinceYear</th>\n",
       "      <th>Promo2</th>\n",
       "      <th>Promo2SinceWeek</th>\n",
       "      <th>Promo2SinceYear</th>\n",
       "      <th>PromoInterval</th>\n",
       "      <th>Year</th>\n",
       "      <th>Month</th>\n",
       "      <th>MonthsPassedSinceOpen</th>\n",
       "      <th>Promo2SinceMonth</th>\n",
       "    </tr>\n",
       "  </thead>\n",
       "  <tbody>\n",
       "    <tr>\n",
       "      <th>0</th>\n",
       "      <td>5</td>\n",
       "      <td>8492</td>\n",
       "      <td>833</td>\n",
       "      <td>1</td>\n",
       "      <td>1</td>\n",
       "      <td>a</td>\n",
       "      <td>a</td>\n",
       "      <td>7520.0</td>\n",
       "      <td>10</td>\n",
       "      <td>2014</td>\n",
       "      <td>0</td>\n",
       "      <td>0</td>\n",
       "      <td>0</td>\n",
       "      <td>NaN</td>\n",
       "      <td>2015</td>\n",
       "      <td>7</td>\n",
       "      <td>9</td>\n",
       "      <td>0</td>\n",
       "    </tr>\n",
       "    <tr>\n",
       "      <th>1</th>\n",
       "      <td>5</td>\n",
       "      <td>10457</td>\n",
       "      <td>1236</td>\n",
       "      <td>1</td>\n",
       "      <td>1</td>\n",
       "      <td>a</td>\n",
       "      <td>c</td>\n",
       "      <td>960.0</td>\n",
       "      <td>11</td>\n",
       "      <td>2011</td>\n",
       "      <td>1</td>\n",
       "      <td>1</td>\n",
       "      <td>2012</td>\n",
       "      <td>Jan,Apr,Jul,Oct</td>\n",
       "      <td>2015</td>\n",
       "      <td>7</td>\n",
       "      <td>44</td>\n",
       "      <td>1</td>\n",
       "    </tr>\n",
       "    <tr>\n",
       "      <th>2</th>\n",
       "      <td>5</td>\n",
       "      <td>8959</td>\n",
       "      <td>962</td>\n",
       "      <td>1</td>\n",
       "      <td>1</td>\n",
       "      <td>a</td>\n",
       "      <td>c</td>\n",
       "      <td>1070.0</td>\n",
       "      <td>0</td>\n",
       "      <td>0</td>\n",
       "      <td>1</td>\n",
       "      <td>13</td>\n",
       "      <td>2010</td>\n",
       "      <td>Jan,Apr,Jul,Oct</td>\n",
       "      <td>2015</td>\n",
       "      <td>7</td>\n",
       "      <td>0</td>\n",
       "      <td>4</td>\n",
       "    </tr>\n",
       "    <tr>\n",
       "      <th>3</th>\n",
       "      <td>5</td>\n",
       "      <td>6670</td>\n",
       "      <td>665</td>\n",
       "      <td>1</td>\n",
       "      <td>1</td>\n",
       "      <td>a</td>\n",
       "      <td>a</td>\n",
       "      <td>540.0</td>\n",
       "      <td>6</td>\n",
       "      <td>2011</td>\n",
       "      <td>0</td>\n",
       "      <td>0</td>\n",
       "      <td>0</td>\n",
       "      <td>NaN</td>\n",
       "      <td>2015</td>\n",
       "      <td>7</td>\n",
       "      <td>49</td>\n",
       "      <td>0</td>\n",
       "    </tr>\n",
       "    <tr>\n",
       "      <th>4</th>\n",
       "      <td>5</td>\n",
       "      <td>3874</td>\n",
       "      <td>390</td>\n",
       "      <td>1</td>\n",
       "      <td>1</td>\n",
       "      <td>a</td>\n",
       "      <td>a</td>\n",
       "      <td>1060.0</td>\n",
       "      <td>5</td>\n",
       "      <td>2012</td>\n",
       "      <td>0</td>\n",
       "      <td>0</td>\n",
       "      <td>0</td>\n",
       "      <td>NaN</td>\n",
       "      <td>2015</td>\n",
       "      <td>7</td>\n",
       "      <td>38</td>\n",
       "      <td>0</td>\n",
       "    </tr>\n",
       "  </tbody>\n",
       "</table>\n",
       "</div>"
      ],
      "text/plain": [
       "   DayOfWeek  Sales  Customers  Promo  SchoolHoliday StoreType Assortment  \\\n",
       "0          5   8492        833      1              1         a          a   \n",
       "1          5  10457       1236      1              1         a          c   \n",
       "2          5   8959        962      1              1         a          c   \n",
       "3          5   6670        665      1              1         a          a   \n",
       "4          5   3874        390      1              1         a          a   \n",
       "\n",
       "   CompetitionDistance  CompetitionOpenSinceMonth  CompetitionOpenSinceYear  \\\n",
       "0               7520.0                         10                      2014   \n",
       "1                960.0                         11                      2011   \n",
       "2               1070.0                          0                         0   \n",
       "3                540.0                          6                      2011   \n",
       "4               1060.0                          5                      2012   \n",
       "\n",
       "   Promo2  Promo2SinceWeek  Promo2SinceYear    PromoInterval  Year  Month  \\\n",
       "0       0                0                0              NaN  2015      7   \n",
       "1       1                1             2012  Jan,Apr,Jul,Oct  2015      7   \n",
       "2       1               13             2010  Jan,Apr,Jul,Oct  2015      7   \n",
       "3       0                0                0              NaN  2015      7   \n",
       "4       0                0                0              NaN  2015      7   \n",
       "\n",
       "   MonthsPassedSinceOpen  Promo2SinceMonth  \n",
       "0                      9                 0  \n",
       "1                     44                 1  \n",
       "2                      0                 4  \n",
       "3                     49                 0  \n",
       "4                     38                 0  "
      ]
     },
     "execution_count": 5,
     "metadata": {},
     "output_type": "execute_result"
    }
   ],
   "source": [
    "from sklearn.model_selection import train_test_split\n",
    "\n",
    "trainval_store = train['Store'].unique();\n",
    "train_store, val_store = train_test_split(trainval_store, random_state=42);\n",
    "val = train[train.Store.isin(val_store)];\n",
    "train = train[train.Store.isin(train_store)];\n",
    "\n",
    "def wrangle(data):\n",
    "    data_copy = data.copy();\n",
    "    # Merge with Store Data\n",
    "    store_data = data_copy.merge(store, how='left', on='Store');\n",
    "    \n",
    "    store_data['Date'] = pd.to_datetime(store_data['Date'], infer_datetime_format=True);\n",
    "    store_data['Year'] = store_data['Date'].dt.year;\n",
    "    store_data['Month'] = store_data['Date'].dt.month;\n",
    "    store_data = store_data.drop(columns='Date');\n",
    "    \n",
    "    start_month = store_data['CompetitionOpenSinceMonth'];\n",
    "    start_year = store_data['CompetitionOpenSinceYear'];\n",
    "    store_data['CompetitionOpenSinceMonth'] = start_month.fillna(0).astype(int);\n",
    "    store_data['CompetitionOpenSinceYear'] = start_year.fillna(0).astype(int);\n",
    "    \n",
    "    # New Features\n",
    "    store_data['MonthsPassedSinceOpen'] = ((store_data['Year'] - start_year) * 12 + store_data['Month'] - start_month).fillna(0).astype(int);\n",
    "    store_data['Promo2SinceMonth'] = ((store_data['Promo2SinceWeek'] * 7) / 30 + 1).fillna(0).astype(int)\n",
    "    \n",
    "    store_data['Promo2SinceWeek'] = store_data['Promo2SinceWeek'].fillna(0).astype(int);\n",
    "    store_data['Promo2SinceYear'] = store_data['Promo2SinceYear'].fillna(0).astype(int);\n",
    "    # Drop Store\n",
    "    store_data = store_data.drop(columns='Store');\n",
    "    return store_data;\n",
    "\n",
    "train_wrangled = wrangle(train);\n",
    "val_wrangled = wrangle(val);\n",
    "test_wrangled = wrangle(test);\n",
    "\n",
    "train_wrangled.head()"
   ]
  },
  {
   "cell_type": "code",
   "execution_count": 6,
   "metadata": {},
   "outputs": [],
   "source": [
    "import numpy as np;\n",
    "\n",
    "target = 'Sales';\n",
    "\n",
    "x_train = train_wrangled.drop(columns=target);\n",
    "x_val = val_wrangled.drop(columns=target);\n",
    "y_train = train_wrangled[target];\n",
    "y_val = val_wrangled[target];\n",
    "x_test = test_wrangled\n",
    "y_test = test_wrangled[target];\n",
    "\n",
    "y_train_log = np.log1p(y_train);\n",
    "y_val_log = np.log1p(y_val)\n",
    "y_test_log = np.log1p(y_test);"
   ]
  },
  {
   "cell_type": "code",
   "execution_count": 7,
   "metadata": {},
   "outputs": [
    {
     "data": {
      "text/plain": [
       "<matplotlib.axes._subplots.AxesSubplot at 0x1a1ae60f98>"
      ]
     },
     "execution_count": 7,
     "metadata": {},
     "output_type": "execute_result"
    }
   ],
   "source": [
    "import seaborn as sns;\n",
    "\n",
    "sns.distplot(y_train)"
   ]
  },
  {
   "cell_type": "code",
   "execution_count": 8,
   "metadata": {},
   "outputs": [
    {
     "data": {
      "text/plain": [
       "<matplotlib.axes._subplots.AxesSubplot at 0x1a1b583978>"
      ]
     },
     "execution_count": 8,
     "metadata": {},
     "output_type": "execute_result"
    },
    {
     "data": {
      "image/png": "[encoded data removed]",
      "text/plain": [
       "<Figure size 432x288 with 1 Axes>"
      ]
     },
     "metadata": {
      "needs_background": "light"
     },
     "output_type": "display_data"
    }
   ],
   "source": [
    "sns.distplot(y_train_log)"
   ]
  },
  {
   "cell_type": "code",
   "execution_count": 9,
   "metadata": {},
   "outputs": [
    {
     "data": {
      "text/plain": [
       "<matplotlib.axes._subplots.AxesSubplot at 0x1a197de2e8>"
      ]
     },
     "execution_count": 9,
     "metadata": {},
     "output_type": "execute_result"
    },
    {
     "data": {
      "image/png": "[encoded data removed]",
      "text/plain": [
       "<Figure size 432x288 with 1 Axes>"
      ]
     },
     "metadata": {
      "needs_background": "light"
     },
     "output_type": "display_data"
    }
   ],
   "source": [
    "sns.distplot(y_val)"
   ]
  },
  {
   "cell_type": "code",
   "execution_count": 10,
   "metadata": {},
   "outputs": [
    {
     "data": {
      "text/plain": [
       "<matplotlib.axes._subplots.AxesSubplot at 0x1a197de3c8>"
      ]
     },
     "execution_count": 10,
     "metadata": {},
     "output_type": "execute_result"
    },
    {
     "data": {
      "image/png": "[encoded data removed]",
      "text/plain": [
       "<Figure size 432x288 with 1 Axes>"
      ]
     },
     "metadata": {
      "needs_background": "light"
     },
     "output_type": "display_data"
    }
   ],
   "source": [
    "sns.distplot(y_val_log)"
   ]
  },
  {
   "cell_type": "code",
   "execution_count": 11,
   "metadata": {},
   "outputs": [
    {
     "data": {
      "text/plain": [
       "<matplotlib.axes._subplots.AxesSubplot at 0x1a19618588>"
      ]
     },
     "execution_count": 11,
     "metadata": {},
     "output_type": "execute_result"
    },
    {
     "data": {
      "image/png": "[encoded data removed]",
      "text/plain": [
       "<Figure size 432x288 with 1 Axes>"
      ]
     },
     "metadata": {
      "needs_background": "light"
     },
     "output_type": "display_data"
    }
   ],
   "source": [
    "sns.distplot(y_test)"
   ]
  },
  {
   "cell_type": "code",
   "execution_count": 12,
   "metadata": {},
   "outputs": [
    {
     "data": {
      "text/plain": [
       "<matplotlib.axes._subplots.AxesSubplot at 0x1a19640a90>"
      ]
     },
     "execution_count": 12,
     "metadata": {},
     "output_type": "execute_result"
    },
    {
     "data": {
      "image/png": "[encoded data removed]",
      "text/plain": [
       "<Figure size 432x288 with 1 Axes>"
      ]
     },
     "metadata": {
      "needs_background": "light"
     },
     "output_type": "display_data"
    }
   ],
   "source": [
    "sns.distplot(y_test_log)"
   ]
  },
  {
   "cell_type": "markdown",
   "metadata": {
    "colab_type": "text",
    "id": "xiljXNuKzprz"
   },
   "source": [
    "## 2. Fit and validate your model\n",
    "- **Use Gradient Boosting** or any type of regression model.\n",
    "- **Beat the baseline:** The estimated baseline Root Mean Squared Logarithmic Error is 0.90, if we guessed the mean sales for every prediction. Remember that RMSE with the log-transformed target is equivalent to RMSLE with the original target. Try to get your error below 0.20.\n",
    "- **To validate your model, choose any one of these options:**\n",
    "  - Split the train dataframe into train and validation sets. Put all dates for a given store into the same set. Use xgboost `early_stopping_rounds` with the validation set. \n",
    "  - Or, use scikit-learn `cross_val_score`. Put all dates for a given store into the same fold.\n",
    "  - Or, use scikit-learn `RandomizedSearchCV` for hyperparameter optimization. Put all dates for a given store into the same fold.\n",
    "- **Get the Validation Error** (multiple times if you try multiple iterations) **and Test Error** (one time, at the end).\n",
    "  \n",
    "#### Stretch goal\n",
    "- Optimize 3+ hyperparameters by searching 10+ \"candidates\" (possible combinations of hyperparameters). "
   ]
  },
  {
   "cell_type": "code",
   "execution_count": 13,
   "metadata": {
    "colab": {},
    "colab_type": "code",
    "id": "WWNccxI5zprz"
   },
   "outputs": [
    {
     "name": "stdout",
     "output_type": "stream",
     "text": [
      "Fitting 3 folds for each of 5 candidates, totalling 15 fits\n"
     ]
    },
    {
     "name": "stderr",
     "output_type": "stream",
     "text": [
      "[Parallel(n_jobs=-1)]: Using backend LokyBackend with 4 concurrent workers.\n",
      "[Parallel(n_jobs=-1)]: Done   5 tasks      | elapsed:   59.5s\n",
      "[Parallel(n_jobs=-1)]: Done  10 out of  15 | elapsed:  1.6min remaining:   48.6s\n",
      "[Parallel(n_jobs=-1)]: Done  12 out of  15 | elapsed:  2.1min remaining:   31.5s\n",
      "[Parallel(n_jobs=-1)]: Done  15 out of  15 | elapsed:  2.9min finished\n"
     ]
    }
   ],
   "source": [
    "from scipy.stats import randint, uniform;\n",
    "from sklearn.pipeline import make_pipeline;\n",
    "from sklearn.model_selection import RandomizedSearchCV;\n",
    "from xgboost import XGBRegressor;\n",
    "import category_encoders as ce;\n",
    "\n",
    "groups = train['Store'];\n",
    "\n",
    "pipeline = make_pipeline(\n",
    "    ce.OrdinalEncoder(),\n",
    "    XGBRegressor(random_state=42)\n",
    ");\n",
    "\n",
    "param_distributions = {\n",
    "    'xgbregressor__n_estimators': randint(200, 800),\n",
    "    'xgbregressor__max_depth': randint(3, 15)\n",
    "};\n",
    "\n",
    "search = RandomizedSearchCV(\n",
    "    pipeline,\n",
    "    param_distributions=param_distributions,\n",
    "    n_iter=5,\n",
    "    cv=3,\n",
    "    scoring='neg_mean_squared_error',\n",
    "    verbose=10,\n",
    "    return_train_score=True,\n",
    "    n_jobs=-1\n",
    ");\n",
    "\n",
    "search.fit(x_train, y_train_log, groups=groups);"
   ]
  },
  {
   "cell_type": "code",
   "execution_count": 14,
   "metadata": {},
   "outputs": [
    {
     "name": "stdout",
     "output_type": "stream",
     "text": [
      "Best Hyperparameters: {'xgbregressor__max_depth': 8, 'xgbregressor__n_estimators': 248}\n",
      "Cross Validation rmsle: 0.06195554663262639\n"
     ]
    }
   ],
   "source": [
    "print('Best Hyperparameters:', search.best_params_);\n",
    "print('Cross Validation rmsle:', np.sqrt(-search.best_score_));"
   ]
  },
  {
   "cell_type": "code",
   "execution_count": 15,
   "metadata": {},
   "outputs": [
    {
     "name": "stdout",
     "output_type": "stream",
     "text": [
      "[0]\tvalidation_0-rmse:7.47822\tvalidation_1-rmse:7.39615\n",
      "Multiple eval metrics have been passed: 'validation_1-rmse' will be used for early stopping.\n",
      "\n",
      "Will train until validation_1-rmse hasn't improved in 50 rounds.\n",
      "[1]\tvalidation_0-rmse:6.73096\tvalidation_1-rmse:6.64893\n",
      "[2]\tvalidation_0-rmse:6.05845\tvalidation_1-rmse:5.97671\n",
      "[3]\tvalidation_0-rmse:5.45322\tvalidation_1-rmse:5.37318\n",
      "[4]\tvalidation_0-rmse:4.90855\tvalidation_1-rmse:4.82889\n",
      "[5]\tvalidation_0-rmse:4.41838\tvalidation_1-rmse:4.33962\n",
      "[6]\tvalidation_0-rmse:3.97727\tvalidation_1-rmse:3.89978\n",
      "[7]\tvalidation_0-rmse:3.58032\tvalidation_1-rmse:3.50451\n",
      "[8]\tvalidation_0-rmse:3.22311\tvalidation_1-rmse:3.14794\n",
      "[9]\tvalidation_0-rmse:2.90166\tvalidation_1-rmse:2.82726\n",
      "[10]\tvalidation_0-rmse:2.61245\tvalidation_1-rmse:2.53959\n",
      "[11]\tvalidation_0-rmse:2.3522\tvalidation_1-rmse:2.2799\n",
      "[12]\tvalidation_0-rmse:2.11806\tvalidation_1-rmse:2.04739\n",
      "[13]\tvalidation_0-rmse:1.90742\tvalidation_1-rmse:1.83761\n",
      "[14]\tvalidation_0-rmse:1.71795\tvalidation_1-rmse:1.64861\n",
      "[15]\tvalidation_0-rmse:1.54753\tvalidation_1-rmse:1.48042\n",
      "[16]\tvalidation_0-rmse:1.39421\tvalidation_1-rmse:1.32836\n",
      "[17]\tvalidation_0-rmse:1.25639\tvalidation_1-rmse:1.19125\n",
      "[18]\tvalidation_0-rmse:1.13246\tvalidation_1-rmse:1.06807\n",
      "[19]\tvalidation_0-rmse:1.0211\tvalidation_1-rmse:0.957351\n",
      "[20]\tvalidation_0-rmse:0.921031\tvalidation_1-rmse:0.857599\n",
      "[21]\tvalidation_0-rmse:0.83115\tvalidation_1-rmse:0.769961\n",
      "[22]\tvalidation_0-rmse:0.750297\tvalidation_1-rmse:0.690939\n",
      "[23]\tvalidation_0-rmse:0.677856\tvalidation_1-rmse:0.619184\n",
      "[24]\tvalidation_0-rmse:0.612809\tvalidation_1-rmse:0.556348\n",
      "[25]\tvalidation_0-rmse:0.55459\tvalidation_1-rmse:0.498964\n",
      "[26]\tvalidation_0-rmse:0.502252\tvalidation_1-rmse:0.448712\n",
      "[27]\tvalidation_0-rmse:0.455609\tvalidation_1-rmse:0.403746\n",
      "[28]\tvalidation_0-rmse:0.413995\tvalidation_1-rmse:0.363985\n",
      "[29]\tvalidation_0-rmse:0.376601\tvalidation_1-rmse:0.329883\n",
      "[30]\tvalidation_0-rmse:0.34341\tvalidation_1-rmse:0.301086\n",
      "[31]\tvalidation_0-rmse:0.314002\tvalidation_1-rmse:0.274097\n",
      "[32]\tvalidation_0-rmse:0.287548\tvalidation_1-rmse:0.251779\n",
      "[33]\tvalidation_0-rmse:0.264346\tvalidation_1-rmse:0.233043\n",
      "[34]\tvalidation_0-rmse:0.243874\tvalidation_1-rmse:0.217491\n",
      "[35]\tvalidation_0-rmse:0.225993\tvalidation_1-rmse:0.202806\n",
      "[36]\tvalidation_0-rmse:0.2102\tvalidation_1-rmse:0.191355\n",
      "[37]\tvalidation_0-rmse:0.196213\tvalidation_1-rmse:0.182631\n",
      "[38]\tvalidation_0-rmse:0.184037\tvalidation_1-rmse:0.175073\n",
      "[39]\tvalidation_0-rmse:0.173588\tvalidation_1-rmse:0.1697\n",
      "[40]\tvalidation_0-rmse:0.164411\tvalidation_1-rmse:0.166104\n",
      "[41]\tvalidation_0-rmse:0.156606\tvalidation_1-rmse:0.163198\n",
      "[42]\tvalidation_0-rmse:0.150018\tvalidation_1-rmse:0.160828\n",
      "[43]\tvalidation_0-rmse:0.144317\tvalidation_1-rmse:0.158459\n",
      "[44]\tvalidation_0-rmse:0.1391\tvalidation_1-rmse:0.156828\n",
      "[45]\tvalidation_0-rmse:0.134795\tvalidation_1-rmse:0.156863\n",
      "[46]\tvalidation_0-rmse:0.131288\tvalidation_1-rmse:0.156119\n",
      "[47]\tvalidation_0-rmse:0.127357\tvalidation_1-rmse:0.155897\n",
      "[48]\tvalidation_0-rmse:0.124796\tvalidation_1-rmse:0.155917\n",
      "[49]\tvalidation_0-rmse:0.122439\tvalidation_1-rmse:0.156392\n",
      "[50]\tvalidation_0-rmse:0.120527\tvalidation_1-rmse:0.15606\n",
      "[51]\tvalidation_0-rmse:0.11896\tvalidation_1-rmse:0.156499\n",
      "[52]\tvalidation_0-rmse:0.117278\tvalidation_1-rmse:0.156182\n",
      "[53]\tvalidation_0-rmse:0.115958\tvalidation_1-rmse:0.156966\n",
      "[54]\tvalidation_0-rmse:0.114864\tvalidation_1-rmse:0.157035\n",
      "[55]\tvalidation_0-rmse:0.113936\tvalidation_1-rmse:0.157149\n",
      "[56]\tvalidation_0-rmse:0.113112\tvalidation_1-rmse:0.157053\n",
      "[57]\tvalidation_0-rmse:0.111941\tvalidation_1-rmse:0.158018\n",
      "[58]\tvalidation_0-rmse:0.111\tvalidation_1-rmse:0.157988\n",
      "[59]\tvalidation_0-rmse:0.110077\tvalidation_1-rmse:0.157343\n",
      "[60]\tvalidation_0-rmse:0.109588\tvalidation_1-rmse:0.157369\n",
      "[61]\tvalidation_0-rmse:0.109023\tvalidation_1-rmse:0.158163\n",
      "[62]\tvalidation_0-rmse:0.108231\tvalidation_1-rmse:0.158494\n",
      "[63]\tvalidation_0-rmse:0.107774\tvalidation_1-rmse:0.158409\n",
      "[64]\tvalidation_0-rmse:0.107391\tvalidation_1-rmse:0.158579\n",
      "[65]\tvalidation_0-rmse:0.10685\tvalidation_1-rmse:0.158776\n",
      "[66]\tvalidation_0-rmse:0.105731\tvalidation_1-rmse:0.159344\n",
      "[67]\tvalidation_0-rmse:0.104989\tvalidation_1-rmse:0.159722\n",
      "[68]\tvalidation_0-rmse:0.104547\tvalidation_1-rmse:0.159904\n",
      "[69]\tvalidation_0-rmse:0.104008\tvalidation_1-rmse:0.159344\n",
      "[70]\tvalidation_0-rmse:0.103103\tvalidation_1-rmse:0.160176\n",
      "[71]\tvalidation_0-rmse:0.10284\tvalidation_1-rmse:0.160181\n",
      "[72]\tvalidation_0-rmse:0.102467\tvalidation_1-rmse:0.159823\n",
      "[73]\tvalidation_0-rmse:0.101576\tvalidation_1-rmse:0.160394\n",
      "[74]\tvalidation_0-rmse:0.101377\tvalidation_1-rmse:0.160401\n",
      "[75]\tvalidation_0-rmse:0.10114\tvalidation_1-rmse:0.160088\n",
      "[76]\tvalidation_0-rmse:0.100951\tvalidation_1-rmse:0.160149\n",
      "[77]\tvalidation_0-rmse:0.100212\tvalidation_1-rmse:0.161657\n",
      "[78]\tvalidation_0-rmse:0.099443\tvalidation_1-rmse:0.162865\n",
      "[79]\tvalidation_0-rmse:0.09929\tvalidation_1-rmse:0.163196\n",
      "[80]\tvalidation_0-rmse:0.099022\tvalidation_1-rmse:0.163054\n",
      "[81]\tvalidation_0-rmse:0.098634\tvalidation_1-rmse:0.162826\n",
      "[82]\tvalidation_0-rmse:0.09785\tvalidation_1-rmse:0.163974\n",
      "[83]\tvalidation_0-rmse:0.097632\tvalidation_1-rmse:0.163933\n",
      "[84]\tvalidation_0-rmse:0.09702\tvalidation_1-rmse:0.164344\n",
      "[85]\tvalidation_0-rmse:0.096565\tvalidation_1-rmse:0.164729\n",
      "[86]\tvalidation_0-rmse:0.095562\tvalidation_1-rmse:0.16522\n",
      "[87]\tvalidation_0-rmse:0.095355\tvalidation_1-rmse:0.164399\n",
      "[88]\tvalidation_0-rmse:0.09465\tvalidation_1-rmse:0.165617\n",
      "[89]\tvalidation_0-rmse:0.094333\tvalidation_1-rmse:0.165902\n",
      "[90]\tvalidation_0-rmse:0.094193\tvalidation_1-rmse:0.165816\n",
      "[91]\tvalidation_0-rmse:0.093601\tvalidation_1-rmse:0.16629\n",
      "[92]\tvalidation_0-rmse:0.09336\tvalidation_1-rmse:0.166151\n",
      "[93]\tvalidation_0-rmse:0.093241\tvalidation_1-rmse:0.165633\n",
      "[94]\tvalidation_0-rmse:0.093043\tvalidation_1-rmse:0.165773\n",
      "[95]\tvalidation_0-rmse:0.092821\tvalidation_1-rmse:0.165945\n",
      "[96]\tvalidation_0-rmse:0.092532\tvalidation_1-rmse:0.166068\n",
      "[97]\tvalidation_0-rmse:0.09237\tvalidation_1-rmse:0.166682\n",
      "Stopping. Best iteration:\n",
      "[47]\tvalidation_0-rmse:0.127357\tvalidation_1-rmse:0.155897\n",
      "\n"
     ]
    },
    {
     "data": {
      "text/plain": [
       "XGBRegressor(base_score=0.5, booster='gbtree', colsample_bylevel=1,\n",
       "       colsample_bytree=1, gamma=0, learning_rate=0.1, max_delta_step=0,\n",
       "       max_depth=3, min_child_weight=1, missing=None, n_estimators=2000,\n",
       "       n_jobs=1, nthread=None, objective='reg:linear', random_state=42,\n",
       "       reg_alpha=0, reg_lambda=1, scale_pos_weight=1, seed=None,\n",
       "       silent=True, subsample=1)"
      ]
     },
     "execution_count": 15,
     "metadata": {},
     "output_type": "execute_result"
    }
   ],
   "source": [
    "encoder = ce.OrdinalEncoder();\n",
    "x_train_encoded = encoder.fit_transform(x_train);\n",
    "x_val_encoded = encoder.transform(x_val);\n",
    "\n",
    "eval_set = [(x_train_encoded, y_train_log),\n",
    "           (x_val_encoded, y_val_log)];\n",
    "\n",
    "model = XGBRegressor(n_estimators=2000, random_state=42);\n",
    "model.fit(x_train_encoded, y_train_log, eval_set=eval_set, eval_metric='rmse', early_stopping_rounds=50)"
   ]
  },
  {
   "cell_type": "code",
   "execution_count": 16,
   "metadata": {},
   "outputs": [
    {
     "data": {
      "image/png": "[encoded data removed]",
      "text/plain": [
       "<Figure size 432x288 with 1 Axes>"
      ]
     },
     "metadata": {
      "needs_background": "light"
     },
     "output_type": "display_data"
    }
   ],
   "source": [
    "import matplotlib.pyplot as plt;\n",
    "\n",
    "results = model.evals_result();\n",
    "train_rmse = results['validation_0']['rmse']\n",
    "epoch = range(len(train_rmse));\n",
    "plt.plot(epoch, train_rmse)\n",
    "plt.show()"
   ]
  },
  {
   "cell_type": "markdown",
   "metadata": {
    "colab_type": "text",
    "id": "JGqeEpRmzpr1"
   },
   "source": [
    "## 3. Plot model interpretation visualizations\n",
    "- Choose any one of these options:\n",
    "  - Permutation Importances plot\n",
    "  - Partial Dependency Plot, 1 feature isolation\n",
    "  - Partial Dependency Plot, 2 feature interaction\n",
    "  \n",
    "#### Stretch goals\n",
    "- Plot 2+ visualizations.\n",
    "- Use permutation importances for feature selection. "
   ]
  },
  {
   "cell_type": "code",
   "execution_count": 17,
   "metadata": {
    "colab": {},
    "colab_type": "code",
    "id": "ZeOJFJJZzpr1"
   },
   "outputs": [
    {
     "name": "stderr",
     "output_type": "stream",
     "text": [
      "/Users/ashwin/anaconda3/lib/python3.7/site-packages/lightgbm/__init__.py:46: UserWarning: Starting from version 2.2.1, the library file in distribution wheels for macOS is built by the Apple Clang (Xcode_9.4.1) compiler.\n",
      "This means that in case of installing LightGBM from PyPI via the ``pip install lightgbm`` command, you don't need to install the gcc compiler anymore.\n",
      "Instead of that, you need to install the OpenMP library, which is required for running LightGBM on the system with the Apple Clang compiler.\n",
      "You can install the OpenMP library by the following command: ``brew install libomp``.\n",
      "  \"You can install the OpenMP library by the following command: ``brew install libomp``.\", UserWarning)\n"
     ]
    }
   ],
   "source": [
    "import eli5;\n",
    "from eli5.sklearn import PermutationImportance;\n",
    "from sklearn.metrics import mean_absolute_error;"
   ]
  },
  {
   "cell_type": "code",
   "execution_count": 18,
   "metadata": {},
   "outputs": [
    {
     "data": {
      "text/html": [
       "\n",
       "    <style>\n",
       "    table.eli5-weights tr:hover {\n",
       "        filter: brightness(85%);\n",
       "    }\n",
       "</style>\n",
       "\n",
       "\n",
       "\n",
       "    \n",
       "\n",
       "    \n",
       "\n",
       "    \n",
       "\n",
       "    \n",
       "\n",
       "    \n",
       "\n",
       "    \n",
       "\n",
       "\n",
       "    \n",
       "\n",
       "    \n",
       "\n",
       "    \n",
       "\n",
       "    \n",
       "\n",
       "    \n",
       "\n",
       "    \n",
       "\n",
       "\n",
       "    \n",
       "\n",
       "    \n",
       "\n",
       "    \n",
       "\n",
       "    \n",
       "\n",
       "    \n",
       "        <table class=\"eli5-weights eli5-feature-importances\" style=\"border-collapse: collapse; border: none; margin-top: 0em; table-layout: auto;\">\n",
       "    <thead>\n",
       "    <tr style=\"border: none;\">\n",
       "        <th style=\"padding: 0 1em 0 0.5em; text-align: right; border: none;\">Weight</th>\n",
       "        <th style=\"padding: 0 0.5em 0 0.5em; text-align: left; border: none;\">Feature</th>\n",
       "    </tr>\n",
       "    </thead>\n",
       "    <tbody>\n",
       "    \n",
       "        <tr style=\"background-color: hsl(120, 100.00%, 80.00%); border: none;\">\n",
       "            <td style=\"padding: 0 1em 0 0.5em; text-align: right; border: none;\">\n",
       "                0.2520\n",
       "                \n",
       "                    &plusmn; 0.0032\n",
       "                \n",
       "            </td>\n",
       "            <td style=\"padding: 0 0.5em 0 0.5em; text-align: left; border: none;\">\n",
       "                Customers\n",
       "            </td>\n",
       "        </tr>\n",
       "    \n",
       "        <tr style=\"background-color: hsl(120, 100.00%, 95.45%); border: none;\">\n",
       "            <td style=\"padding: 0 1em 0 0.5em; text-align: right; border: none;\">\n",
       "                0.0304\n",
       "                \n",
       "                    &plusmn; 0.0009\n",
       "                \n",
       "            </td>\n",
       "            <td style=\"padding: 0 0.5em 0 0.5em; text-align: left; border: none;\">\n",
       "                Promo\n",
       "            </td>\n",
       "        </tr>\n",
       "    \n",
       "        <tr style=\"background-color: hsl(120, 100.00%, 97.71%); border: none;\">\n",
       "            <td style=\"padding: 0 1em 0 0.5em; text-align: right; border: none;\">\n",
       "                0.0114\n",
       "                \n",
       "                    &plusmn; 0.0005\n",
       "                \n",
       "            </td>\n",
       "            <td style=\"padding: 0 0.5em 0 0.5em; text-align: left; border: none;\">\n",
       "                CompetitionDistance\n",
       "            </td>\n",
       "        </tr>\n",
       "    \n",
       "        <tr style=\"background-color: hsl(120, 100.00%, 98.40%); border: none;\">\n",
       "            <td style=\"padding: 0 1em 0 0.5em; text-align: right; border: none;\">\n",
       "                0.0068\n",
       "                \n",
       "                    &plusmn; 0.0002\n",
       "                \n",
       "            </td>\n",
       "            <td style=\"padding: 0 0.5em 0 0.5em; text-align: left; border: none;\">\n",
       "                StoreType\n",
       "            </td>\n",
       "        </tr>\n",
       "    \n",
       "        <tr style=\"background-color: hsl(120, 100.00%, 98.76%); border: none;\">\n",
       "            <td style=\"padding: 0 1em 0 0.5em; text-align: right; border: none;\">\n",
       "                0.0048\n",
       "                \n",
       "                    &plusmn; 0.0003\n",
       "                \n",
       "            </td>\n",
       "            <td style=\"padding: 0 0.5em 0 0.5em; text-align: left; border: none;\">\n",
       "                Assortment\n",
       "            </td>\n",
       "        </tr>\n",
       "    \n",
       "        <tr style=\"background-color: hsl(120, 100.00%, 99.26%); border: none;\">\n",
       "            <td style=\"padding: 0 1em 0 0.5em; text-align: right; border: none;\">\n",
       "                0.0022\n",
       "                \n",
       "                    &plusmn; 0.0002\n",
       "                \n",
       "            </td>\n",
       "            <td style=\"padding: 0 0.5em 0 0.5em; text-align: left; border: none;\">\n",
       "                DayOfWeek\n",
       "            </td>\n",
       "        </tr>\n",
       "    \n",
       "        <tr style=\"background-color: hsl(120, 100.00%, 99.27%); border: none;\">\n",
       "            <td style=\"padding: 0 1em 0 0.5em; text-align: right; border: none;\">\n",
       "                0.0022\n",
       "                \n",
       "                    &plusmn; 0.0003\n",
       "                \n",
       "            </td>\n",
       "            <td style=\"padding: 0 0.5em 0 0.5em; text-align: left; border: none;\">\n",
       "                Month\n",
       "            </td>\n",
       "        </tr>\n",
       "    \n",
       "        <tr style=\"background-color: hsl(120, 100.00%, 99.38%); border: none;\">\n",
       "            <td style=\"padding: 0 1em 0 0.5em; text-align: right; border: none;\">\n",
       "                0.0018\n",
       "                \n",
       "                    &plusmn; 0.0002\n",
       "                \n",
       "            </td>\n",
       "            <td style=\"padding: 0 0.5em 0 0.5em; text-align: left; border: none;\">\n",
       "                MonthsPassedSinceOpen\n",
       "            </td>\n",
       "        </tr>\n",
       "    \n",
       "        <tr style=\"background-color: hsl(120, 100.00%, 99.84%); border: none;\">\n",
       "            <td style=\"padding: 0 1em 0 0.5em; text-align: right; border: none;\">\n",
       "                0.0003\n",
       "                \n",
       "                    &plusmn; 0.0001\n",
       "                \n",
       "            </td>\n",
       "            <td style=\"padding: 0 0.5em 0 0.5em; text-align: left; border: none;\">\n",
       "                CompetitionOpenSinceMonth\n",
       "            </td>\n",
       "        </tr>\n",
       "    \n",
       "        <tr style=\"background-color: hsl(120, 100.00%, 99.85%); border: none;\">\n",
       "            <td style=\"padding: 0 1em 0 0.5em; text-align: right; border: none;\">\n",
       "                0.0002\n",
       "                \n",
       "                    &plusmn; 0.0001\n",
       "                \n",
       "            </td>\n",
       "            <td style=\"padding: 0 0.5em 0 0.5em; text-align: left; border: none;\">\n",
       "                Year\n",
       "            </td>\n",
       "        </tr>\n",
       "    \n",
       "        <tr style=\"background-color: hsl(120, 100.00%, 99.97%); border: none;\">\n",
       "            <td style=\"padding: 0 1em 0 0.5em; text-align: right; border: none;\">\n",
       "                0.0000\n",
       "                \n",
       "                    &plusmn; 0.0000\n",
       "                \n",
       "            </td>\n",
       "            <td style=\"padding: 0 0.5em 0 0.5em; text-align: left; border: none;\">\n",
       "                SchoolHoliday\n",
       "            </td>\n",
       "        </tr>\n",
       "    \n",
       "        <tr style=\"background-color: hsl(0, 100.00%, 100.00%); border: none;\">\n",
       "            <td style=\"padding: 0 1em 0 0.5em; text-align: right; border: none;\">\n",
       "                0\n",
       "                \n",
       "                    &plusmn; 0.0000\n",
       "                \n",
       "            </td>\n",
       "            <td style=\"padding: 0 0.5em 0 0.5em; text-align: left; border: none;\">\n",
       "                Promo2SinceMonth\n",
       "            </td>\n",
       "        </tr>\n",
       "    \n",
       "        <tr style=\"background-color: hsl(0, 100.00%, 100.00%); border: none;\">\n",
       "            <td style=\"padding: 0 1em 0 0.5em; text-align: right; border: none;\">\n",
       "                0\n",
       "                \n",
       "                    &plusmn; 0.0000\n",
       "                \n",
       "            </td>\n",
       "            <td style=\"padding: 0 0.5em 0 0.5em; text-align: left; border: none;\">\n",
       "                Promo2\n",
       "            </td>\n",
       "        </tr>\n",
       "    \n",
       "        <tr style=\"background-color: hsl(0, 100.00%, 100.00%); border: none;\">\n",
       "            <td style=\"padding: 0 1em 0 0.5em; text-align: right; border: none;\">\n",
       "                0\n",
       "                \n",
       "                    &plusmn; 0.0000\n",
       "                \n",
       "            </td>\n",
       "            <td style=\"padding: 0 0.5em 0 0.5em; text-align: left; border: none;\">\n",
       "                PromoInterval\n",
       "            </td>\n",
       "        </tr>\n",
       "    \n",
       "        <tr style=\"background-color: hsl(0, 100.00%, 99.66%); border: none;\">\n",
       "            <td style=\"padding: 0 1em 0 0.5em; text-align: right; border: none;\">\n",
       "                -0.0007\n",
       "                \n",
       "                    &plusmn; 0.0005\n",
       "                \n",
       "            </td>\n",
       "            <td style=\"padding: 0 0.5em 0 0.5em; text-align: left; border: none;\">\n",
       "                CompetitionOpenSinceYear\n",
       "            </td>\n",
       "        </tr>\n",
       "    \n",
       "        <tr style=\"background-color: hsl(0, 100.00%, 99.46%); border: none;\">\n",
       "            <td style=\"padding: 0 1em 0 0.5em; text-align: right; border: none;\">\n",
       "                -0.0014\n",
       "                \n",
       "                    &plusmn; 0.0000\n",
       "                \n",
       "            </td>\n",
       "            <td style=\"padding: 0 0.5em 0 0.5em; text-align: left; border: none;\">\n",
       "                Promo2SinceWeek\n",
       "            </td>\n",
       "        </tr>\n",
       "    \n",
       "        <tr style=\"background-color: hsl(0, 100.00%, 99.36%); border: none;\">\n",
       "            <td style=\"padding: 0 1em 0 0.5em; text-align: right; border: none;\">\n",
       "                -0.0018\n",
       "                \n",
       "                    &plusmn; 0.0001\n",
       "                \n",
       "            </td>\n",
       "            <td style=\"padding: 0 0.5em 0 0.5em; text-align: left; border: none;\">\n",
       "                Promo2SinceYear\n",
       "            </td>\n",
       "        </tr>\n",
       "    \n",
       "    \n",
       "    </tbody>\n",
       "</table>\n",
       "    \n",
       "\n",
       "    \n",
       "\n",
       "\n",
       "    \n",
       "\n",
       "    \n",
       "\n",
       "    \n",
       "\n",
       "    \n",
       "\n",
       "    \n",
       "\n",
       "    \n",
       "\n",
       "\n",
       "\n"
      ],
      "text/plain": [
       "<IPython.core.display.HTML object>"
      ]
     },
     "execution_count": 18,
     "metadata": {},
     "output_type": "execute_result"
    }
   ],
   "source": [
    "def custom_scoror(estimator, x, y_true):\n",
    "    y_pred = estimator.predict(x);\n",
    "    return -np.sqrt(mean_absolute_error(y_true, y_pred));\n",
    "\n",
    "model.evals_result()\n",
    "permuter = PermutationImportance(\n",
    "    model,\n",
    "    scoring=custom_scoror,\n",
    "    cv='prefit',\n",
    "    n_iter=5,\n",
    "    random_state=42\n",
    ")\n",
    "permuter.fit(x_val_encoded, y_val_log);\n",
    "feature_names = x_val_encoded.columns.tolist();\n",
    "eli5.show_weights(permuter, top=None, feature_names=feature_names)"
   ]
  },
  {
   "cell_type": "code",
   "execution_count": 19,
   "metadata": {},
   "outputs": [
    {
     "name": "stdout",
     "output_type": "stream",
     "text": [
      "[ 2.24870540e-03  2.52005247e-01  3.04303636e-02  2.01412400e-05\n",
      "  6.81114845e-03  4.75258752e-03  1.13980089e-02  2.54286440e-04\n",
      " -7.38885660e-04  0.00000000e+00 -1.44294757e-03 -1.83811218e-03\n",
      "  0.00000000e+00  2.33512686e-04  2.21926180e-03  1.75115336e-03\n",
      "  0.00000000e+00]\n"
     ]
    }
   ],
   "source": [
    "print(permuter.feature_importances_)"
   ]
  },
  {
   "cell_type": "code",
   "execution_count": 20,
   "metadata": {},
   "outputs": [
    {
     "name": "stdout",
     "output_type": "stream",
     "text": [
      "17\n"
     ]
    },
    {
     "data": {
      "image/png": "[encoded data removed]",
      "text/plain": [
       "<Figure size 720x612 with 1 Axes>"
      ]
     },
     "metadata": {
      "needs_background": "light"
     },
     "output_type": "display_data"
    }
   ],
   "source": [
    "%matplotlib inline\n",
    "\n",
    "importances = pd.Series(permuter.feature_importances_, x_train_encoded.columns);\n",
    "importances = importances.sort_values();\n",
    "n = len(x_train_encoded.columns);\n",
    "print(n)\n",
    "plt.figure(figsize=(10, n/2));\n",
    "plt.title(f'Top {n} Features');\n",
    "importances[-n:].plot.barh(color='grey');"
   ]
  }
 ],
 "metadata": {
  "colab": {
   "name": "DS_Sprint_Challenge_8_Regression_2.ipynb",
   "provenance": [],
   "version": "0.3.2"
  },
  "kernelspec": {
   "display_name": "Python 3",
   "language": "python",
   "name": "python3"
  },
  "language_info": {
   "codemirror_mode": {
    "name": "ipython",
    "version": 3
   },
   "file_extension": ".py",
   "mimetype": "text/x-python",
   "name": "python",
   "nbconvert_exporter": "python",
   "pygments_lexer": "ipython3",
   "version": "3.7.3"
  }
 },
 "nbformat": 4,
 "nbformat_minor": 1
}
